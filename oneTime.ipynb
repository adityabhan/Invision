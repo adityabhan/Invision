{
 "cells": [
  {
   "cell_type": "code",
   "execution_count": 98,
   "metadata": {},
   "outputs": [],
   "source": [
    "from tkinter import *\n",
    "root = Tk()\n",
    "root.resizable(width=False, height=False)\n",
    "root.title('InVision Enter Data')\n",
    "rootHeight=190\n",
    "rootWidth=500\n",
    "root.geometry('{}x{}'.format(rootWidth,rootHeight))\n",
    "#root.geometry('{}x{}'.format(460, 350))\n",
    "root.configure(background='cyan')\n",
    "\n",
    "def okButton(event):\n",
    "    print(\"clicked!\")"
   ]
  },
  {
   "cell_type": "code",
   "execution_count": 99,
   "metadata": {},
   "outputs": [],
   "source": [
    "label1=Label(root,text=\"Name\",font=(\"Courier\", 14))\n",
    "label1.configure(background='pink')\n",
    "label2=Label(root,text=\"Company/Organization Name\",font=(\"Courier\", 14))\n",
    "label2.configure(background='yellow')\n",
    "\n",
    "entry1=Entry(root)\n",
    "entry1.configure(background='pink')\n",
    "entry2=Entry(root)\n",
    "entry2.configure(background='pink')\n",
    "\n",
    "label1.grid(row=0,pady=10,padx=10)\n",
    "label2.grid(row=1,pady=10,padx=10)\n",
    "entry1.grid(row=0,column=1,pady=10,padx=10)\n",
    "entry2.grid(row=1,column=1,pady=10,padx=10)\n",
    "okButton=Button(root,text=\"Enter data\",activebackground=\"green\",font=(\"Courier\", 12))\n",
    "okButton.bind('<Button-1>',okButton)\n",
    "okButton.grid(row=2,column=1,pady=10,padx=10)\n",
    "#okButton.pack()"
   ]
  },
  {
   "cell_type": "code",
   "execution_count": 100,
   "metadata": {
    "scrolled": true
   },
   "outputs": [
    {
     "name": "stderr",
     "output_type": "stream",
     "text": [
      "Exception in Tkinter callback\n",
      "Traceback (most recent call last):\n",
      "  File \"C:\\Users\\core-i3\\Anaconda3\\lib\\tkinter\\__init__.py\", line 1702, in __call__\n",
      "    return self.func(*args)\n",
      "TypeError: 'Button' object is not callable\n"
     ]
    }
   ],
   "source": [
    "root.mainloop()"
   ]
  },
  {
   "cell_type": "code",
   "execution_count": null,
   "metadata": {},
   "outputs": [],
   "source": []
  }
 ],
 "metadata": {
  "kernelspec": {
   "display_name": "Python 3",
   "language": "python",
   "name": "python3"
  },
  "language_info": {
   "codemirror_mode": {
    "name": "ipython",
    "version": 3
   },
   "file_extension": ".py",
   "mimetype": "text/x-python",
   "name": "python",
   "nbconvert_exporter": "python",
   "pygments_lexer": "ipython3",
   "version": "3.6.5"
  }
 },
 "nbformat": 4,
 "nbformat_minor": 2
}
