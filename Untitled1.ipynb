{
 "cells": [
  {
   "cell_type": "code",
   "execution_count": 9,
   "metadata": {},
   "outputs": [],
   "source": [
    "from tkinter import *\n",
    "\n",
    "root = Tk()\n",
    "root.title('Model Definition')\n",
    "root.geometry('{}x{}'.format(460, 350))\n",
    "\n",
    "# create all of the main containers\n",
    "top_frame = Frame(root, bg='cyan', width=450, height=50, pady=3)\n",
    "center = Frame(root, bg='gray2', width=50, height=40, padx=3, pady=3)\n",
    "btm_frame = Frame(root, bg='white', width=450, height=45, pady=3)\n",
    "btm_frame2 = Frame(root, bg='lavender', width=450, height=60, pady=3)\n",
    "\n",
    "# layout all of the main containers\n",
    "root.grid_rowconfigure(1, weight=1)\n",
    "root.grid_columnconfigure(0, weight=1)\n",
    "\n",
    "top_frame.grid(row=0, sticky=\"ew\")\n",
    "center.grid(row=1, sticky=\"nsew\")\n",
    "btm_frame.grid(row=3, sticky=\"ew\")\n",
    "btm_frame2.grid(row=4, sticky=\"ew\")\n",
    "\n",
    "# create the widgets for the top frame\n",
    "model_label = Label(top_frame, text='Model Dimensions')\n",
    "width_label = Label(top_frame, text='Width:')\n",
    "length_label = Label(top_frame, text='Length:')\n",
    "entry_W = Entry(top_frame, background=\"pink\")\n",
    "entry_L = Entry(center, background=\"orange\")\n",
    "\n",
    "# layout the widgets in the top frame\n",
    "model_label.grid(row=0, columnspan=3)\n",
    "width_label.grid(row=1, column=0)\n",
    "length_label.grid(row=1, column=2)\n",
    "entry_W.grid(row=1, column=1)\n",
    "entry_L.grid(row=1, column=3)\n",
    "root.mainloop()"
   ]
  },
  {
   "cell_type": "code",
   "execution_count": 3,
   "metadata": {},
   "outputs": [
    {
     "name": "stdout",
     "output_type": "stream",
     "text": [
      "Escape hit, closing...\n"
     ]
    }
   ],
   "source": [
    "import cv2\n",
    "\n",
    "cam = cv2.VideoCapture(1)\n",
    "\n",
    "cv2.namedWindow(\"test\")\n",
    "\n",
    "img_counter = 0\n",
    "\n",
    "while True:\n",
    "    ret, frame = cam.read()\n",
    "    cv2.imshow(\"test\", frame)\n",
    "    if not ret:\n",
    "        break\n",
    "    k = cv2.waitKey(1)\n",
    "\n",
    "    if k%256 == 27:\n",
    "        # ESC pressed\n",
    "        print(\"Escape hit, closing...\")\n",
    "        break\n",
    "    elif k%256 == 32:\n",
    "        # SPACE pressed\n",
    "        img_name = \"opencv_frame_{}.png\".format(img_counter)\n",
    "        cv2.imwrite(img_name, frame)\n",
    "        print(\"{} written!\".format(img_name))\n",
    "        img_counter += 1\n",
    "\n",
    "cam.release()\n",
    "\n",
    "cv2.destroyAllWindows()"
   ]
  },
  {
   "cell_type": "code",
   "execution_count": null,
   "metadata": {},
   "outputs": [],
   "source": []
  }
 ],
 "metadata": {
  "kernelspec": {
   "display_name": "Python 3",
   "language": "python",
   "name": "python3"
  },
  "language_info": {
   "codemirror_mode": {
    "name": "ipython",
    "version": 3
   },
   "file_extension": ".py",
   "mimetype": "text/x-python",
   "name": "python",
   "nbconvert_exporter": "python",
   "pygments_lexer": "ipython3",
   "version": "3.6.5"
  }
 },
 "nbformat": 4,
 "nbformat_minor": 2
}
